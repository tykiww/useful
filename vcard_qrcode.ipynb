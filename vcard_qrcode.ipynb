{
  "nbformat": 4,
  "nbformat_minor": 0,
  "metadata": {
    "colab": {
      "provenance": [],
      "authorship_tag": "ABX9TyNc76GQn/eC7MPwqdqSxWuT"
    },
    "kernelspec": {
      "name": "python3",
      "display_name": "Python 3"
    },
    "language_info": {
      "name": "python"
    }
  },
  "cells": [
    {
      "cell_type": "code",
      "execution_count": 1,
      "metadata": {
        "colab": {
          "base_uri": "https://localhost:8080/"
        },
        "id": "9xybW6BahCaU",
        "outputId": "205034c4-6cfa-4164-c701-d591e1fc7a14"
      },
      "outputs": [
        {
          "output_type": "stream",
          "name": "stdout",
          "text": [
            "Collecting qrcode[pil]\n",
            "  Downloading qrcode-8.0-py3-none-any.whl.metadata (17 kB)\n",
            "Requirement already satisfied: pillow>=9.1.0 in /usr/local/lib/python3.11/dist-packages (from qrcode[pil]) (11.1.0)\n",
            "Downloading qrcode-8.0-py3-none-any.whl (45 kB)\n",
            "\u001b[?25l   \u001b[90m━━━━━━━━━━━━━━━━━━━━━━━━━━━━━━━━━━━━━━━━\u001b[0m \u001b[32m0.0/45.7 kB\u001b[0m \u001b[31m?\u001b[0m eta \u001b[36m-:--:--\u001b[0m\r\u001b[2K   \u001b[90m━━━━━━━━━━━━━━━━━━━━━━━━━━━━━━━━━━━━━━━━\u001b[0m \u001b[32m45.7/45.7 kB\u001b[0m \u001b[31m1.6 MB/s\u001b[0m eta \u001b[36m0:00:00\u001b[0m\n",
            "\u001b[?25hInstalling collected packages: qrcode\n",
            "Successfully installed qrcode-8.0\n"
          ]
        }
      ],
      "source": [
        "pip install qrcode[pil]"
      ]
    },
    {
      "cell_type": "code",
      "source": [
        "import qrcode\n",
        "\n",
        "def generate_vcard(first_name, last_name, email, phone=None, website=None):\n",
        "    # Construct the vCard data\n",
        "    vcard = f\"\"\"\n",
        "BEGIN:VCARD\n",
        "VERSION:3.0\n",
        "N:{last_name};{first_name};;;\n",
        "FN:{first_name} {last_name}\n",
        "EMAIL:{email}\n",
        "\"\"\"\n",
        "\n",
        "    if phone:\n",
        "        vcard += f\"TEL:{phone}\\n\"\n",
        "    if website:\n",
        "        vcard += f\"URL:{website}\\n\"\n",
        "\n",
        "    vcard += \"END:VCARD\"\n",
        "\n",
        "    # Generate the QR code\n",
        "    qr = qrcode.QRCode(\n",
        "        version=1,\n",
        "        error_correction=qrcode.constants.ERROR_CORRECT_L,\n",
        "        box_size=10,\n",
        "        border=4,\n",
        "    )\n",
        "    qr.add_data(vcard)\n",
        "    qr.make(fit=True)\n",
        "\n",
        "    # Create the QR code image\n",
        "    img = qr.make_image(fill_color=\"black\", back_color=\"white\")\n",
        "\n",
        "    # Save the QR code image\n",
        "    filename = f\"{first_name}_{last_name}_vcard.png\"\n",
        "    img.save(filename)\n",
        "\n",
        "    print(f\"vCard QR code saved as {filename}\")\n",
        "\n",
        "if __name__ == \"__main__\":\n",
        "    print(\"Enter your details to generate a vCard QR code:\")\n",
        "    first_name = input(\"First Name: \").strip()\n",
        "    last_name = input(\"Last Name: \").strip()\n",
        "    email = input(\"Email: \").strip()\n",
        "    phone = input(\"Phone Number (optional): \").strip()\n",
        "    website = input(\"Website (optional): \").strip()\n",
        "\n",
        "    # Handle optional inputs\n",
        "    phone = phone if phone else None\n",
        "    website = website if website else None\n",
        "\n",
        "    # Generate the vCard QR code\n",
        "    generate_vcard(first_name, last_name, email, phone, website)\n"
      ],
      "metadata": {
        "colab": {
          "base_uri": "https://localhost:8080/"
        },
        "id": "f2_nRZVXhDn_",
        "outputId": "8ecc5009-c960-43df-e4b5-8f6ac28e6577"
      },
      "execution_count": 3,
      "outputs": [
        {
          "output_type": "stream",
          "name": "stdout",
          "text": [
            "Enter your details to generate a vCard QR code:\n",
            "First Name: Tyki\n",
            "Last Name: Wada\n",
            "Email: founders@moji-app.com\n",
            "Phone Number (optional): +1(404) 590-7606\n",
            "Website (optional): \n",
            "vCard QR code saved as Tyki_Wada_vcard.png\n"
          ]
        }
      ]
    }
  ]
}